{
 "cells": [
  {
   "cell_type": "markdown",
   "metadata": {},
   "source": [
    "# Battle For the Neighborhoods "
   ]
  },
  {
   "cell_type": "markdown",
   "metadata": {},
   "source": [
    "## Capstone Project"
   ]
  },
  {
   "cell_type": "markdown",
   "metadata": {},
   "source": [
    "## Introduction:-"
   ]
  },
  {
   "cell_type": "markdown",
   "metadata": {},
   "source": [
    "*** As working as a Consultant for the develepment of restaurant in New Mexico. I got a task by an Start-up NGO, XXX Limited .They asked me to find the perfect location for restaurant. Where the can earn maximum profit.\n",
    "As they are a start-up the do not know much about it. So they gave me pure independence. As I am completely independent I can \n",
    "Annalyse any data on any conditions to obtain the better result. ***"
   ]
  },
  {
   "cell_type": "markdown",
   "metadata": {},
   "source": [
    "## Problem and Background Understanding :-"
   ]
  },
  {
   "cell_type": "markdown",
   "metadata": {},
   "source": [
    "*** Now a days restaurants are increasing day-by-day. In only china every single day 5 Mac Donald's opens.  \n",
    "So it is very import to firstly Analyse the data for perfect restraunt. ***  \n",
    "*** In order to Analyse the data we have to focus on some important things such as ***\n",
    "1. Location.\n",
    "2. Price.\n",
    "3. Population Density of location.\n",
    "4. Types of food people prefer in that area.\n",
    "5. Total numbers of neighboring restaurant near it. \n",
    "\n",
    "*** Above shown are the some criteria on which I will do my analysis.*** "
   ]
  },
  {
   "cell_type": "markdown",
   "metadata": {},
   "source": [
    "## Business Understanding :-\n",
    "\n",
    "*** As Mentioned above that 5 Mac Donald's Opens in China itself. It is required to analyse the data for the new restaurant is important as competetion is increasing \n",
    "day-by-day. Using data analysis we can find a perfect location, with the perfect veriety of food, and with perfect amount of earning. As a business perspective it is\n",
    "very essential to firstly analyse the data and invest according to it other wise then company can be a great trouble. The big-big companies like Google, Amazon etc.\n",
    "invests billions in data analysis and as use see in return they earn 1,000 time more. ***\n",
    "\n",
    "***Target Audience*** :- Here the target audience is the peoples who wants to Starts bussiness by opening restaurant in new mexico. "
   ]
  },
  {
   "cell_type": "markdown",
   "metadata": {},
   "source": [
    "## Data :- "
   ]
  },
  {
   "cell_type": "markdown",
   "metadata": {},
   "source": [
    "*** 1. Firstly I am using 'https://en.wikipedia.org/wiki/List_of_populated_places_in_New_Mexico' link. ***  \n",
    "*** Thsi link will provide complete data of most popular cities in New Mexico. This data contains 4 colums of which 2 are important i.e. ***  \n",
    " i) City.   \n",
    " ii) Population of the city.  \n",
    "***Ex-This data will help me to analyse the data for the best location. ***"
   ]
  },
  {
   "cell_type": "markdown",
   "metadata": {},
   "source": [
    "*** 2. This data contains complete list of restaurants in that area and I stored it in my computer as file \"New_Mexico.csv.\" ***\n",
    "*** This data will help me to Analyse the restaurants near the perticular cities on the basis of :-***  \n",
    " i) Price.  \n",
    "ii) Ratings.  \n",
    "*** Ex-Using this information to compare between Price and Rate that how they are related. ***"
   ]
  },
  {
   "cell_type": "markdown",
   "metadata": {},
   "source": [
    "*** 3. FourSquare API. ***  \n",
    "*** Using it I am doing these following things:- ***  \n",
    "  i) Getting the neighborhood around locations.  \n",
    " ii) Location Of Cities.  \n",
    "iii)Location of Most Popular spots near the city.  \n",
    "*** Ex-It will help us to find   most popular locations.  ***"
   ]
  },
  {
   "cell_type": "markdown",
   "metadata": {},
   "source": [
    "*** 4. Using link \"https://food.ndtv.com/lists/10-best-mexican-recipes-745746\".***  \n",
    "*** This link provides the data of preffered food by New Mexican Peoples. ***  \n",
    "*** I canverted data in csv format and placed it as file \"Mexican.csv\"***   \n",
    "***Ex-To look at the data of favorite food of new mexicans.***"
   ]
  },
  {
   "cell_type": "markdown",
   "metadata": {},
   "source": [
    "## Methodology :-"
   ]
  },
  {
   "cell_type": "markdown",
   "metadata": {},
   "source": [
    "### I Did Exploratory Analysis using differet graps, maps, Data charts, mathematical equations etc.\n",
    "1. I am analysing data using K-mean clustering method. \n",
    "2. With the help of scatter plot plotting the data of population and rating. That how they are related.  \n",
    "3. Analysing the location of cities on Map.  \n",
    "4. Analysing the neighborhoos locations on Map.  \n",
    "5. Analysing location of most popular places using foursquare  API.    \n",
    "6. Analysing using Histogram between Rating and prices.    \n",
    "7. Using Methematical inbuilt function to obtain maximum or minimum values.  \n",
    "8. Collecting data about the most preferred food by the local peoples."
   ]
  },
  {
   "cell_type": "markdown",
   "metadata": {},
   "source": [
    " ## Result :-"
   ]
  },
  {
   "cell_type": "markdown",
   "metadata": {},
   "source": [
    "### During the analysis I found some interesting results such as"
   ]
  },
  {
   "cell_type": "markdown",
   "metadata": {},
   "source": [
    "1. That the popultion is not dependent on ratings.  \n",
    "2. Lower the price higher the rating.\n",
    "3. There are only 16 cities in New Mexico with population greater than 13000.\n",
    "4. The most common food of mexican people is Chicken Quesadillas.\n",
    "5. The city with the best average ratings was Sunland Park with average rating = 8.8(aprox).\n",
    "6. There are only seven most popular area near the center of Sunland Park.\n",
    "7. The best area for the restaurant is a location between Desert Elementary School and a construction site."
   ]
  },
  {
   "cell_type": "markdown",
   "metadata": {},
   "source": [
    "## Discussion:-"
   ]
  },
  {
   "cell_type": "markdown",
   "metadata": {},
   "source": [
    "Through this I come to know that in New Mexico their are very less number of restaurants specially in Sunland Park.\n",
    "Surperisingly the favorite food of New Mexicons is Chiken Quesadillas. \n",
    "There is only 2 restaurants near 1000m radius in Sunland Park.\n",
    "They best location for the establisment of the restaurant is found to be near a construction site."
   ]
  },
  {
   "cell_type": "markdown",
   "metadata": {},
   "source": [
    "## Cunclusion:-"
   ]
  },
  {
   "cell_type": "markdown",
   "metadata": {},
   "source": [
    "Through the report we can say that the restaurant should be open in Sunland Park between Elementary School and construction site.\n",
    "And also because there are only 2 restaurant between 1000m radius of the center since there is not much competition.\n",
    "The restaurent should focus on the 7 main food which are mentioned in the notebook spetially on the Chiken Quesadillas as they are\n",
    "favorite among New Maxicans. The location is also better because the location site is active 24/7 which will definately produce profit.\n",
    "\n",
    "By analysing the report we can say that the XXX Limeted will definately be happy with the analysis.  "
   ]
  },
  {
   "cell_type": "code",
   "execution_count": null,
   "metadata": {
    "collapsed": true
   },
   "outputs": [],
   "source": []
  }
 ],
 "metadata": {
  "kernelspec": {
   "display_name": "Python 3",
   "language": "python",
   "name": "python3"
  },
  "language_info": {
   "codemirror_mode": {
    "name": "ipython",
    "version": 3
   },
   "file_extension": ".py",
   "mimetype": "text/x-python",
   "name": "python",
   "nbconvert_exporter": "python",
   "pygments_lexer": "ipython3",
   "version": "3.6.3"
  }
 },
 "nbformat": 4,
 "nbformat_minor": 2
}
